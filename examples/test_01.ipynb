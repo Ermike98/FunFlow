{
 "cells": [
  {
   "cell_type": "code",
   "outputs": [],
   "source": [
    "import numpy as np\n",
    "import pandas as pd"
   ],
   "metadata": {
    "collapsed": false,
    "ExecuteTime": {
     "end_time": "2024-06-08T21:11:58.205563Z",
     "start_time": "2024-06-08T21:11:57.508846Z"
    }
   },
   "id": "45c98fb41e6ae699",
   "execution_count": 1
  },
  {
   "cell_type": "code",
   "execution_count": 2,
   "id": "initial_id",
   "metadata": {
    "collapsed": true,
    "ExecuteTime": {
     "end_time": "2024-06-08T21:11:58.236652Z",
     "start_time": "2024-06-08T21:11:58.223132Z"
    }
   },
   "outputs": [],
   "source": [
    "from flow import Functional, Model, Layer\n",
    "from pprint import pprint"
   ]
  },
  {
   "cell_type": "code",
   "outputs": [],
   "source": [
    "from sklearn.model_selection import train_test_split\n",
    "from sklearn import datasets\n",
    "from sklearn.ensemble import RandomForestClassifier\n",
    "from sklearn.metrics import classification_report"
   ],
   "metadata": {
    "collapsed": false,
    "ExecuteTime": {
     "end_time": "2024-06-08T21:11:59.395510Z",
     "start_time": "2024-06-08T21:11:58.238681Z"
    }
   },
   "id": "b15afb2740dea7a3",
   "execution_count": 3
  },
  {
   "cell_type": "code",
   "outputs": [],
   "source": [
    "def make_X_y(dataset):\n",
    "    X = pd.DataFrame(dataset[\"data\"], columns=dataset[\"feature_names\"])\n",
    "    y = pd.DataFrame(dataset[\"target\"], columns=[\"target\"])\n",
    "    return X, y"
   ],
   "metadata": {
    "collapsed": false,
    "ExecuteTime": {
     "end_time": "2024-06-08T21:11:59.404115Z",
     "start_time": "2024-06-08T21:11:59.398046Z"
    }
   },
   "id": "771e99c6d6693457",
   "execution_count": 4
  },
  {
   "cell_type": "code",
   "outputs": [],
   "source": [
    "def print_classification_report(y_test, y_pred):\n",
    "    print(classification_report(y_test, y_pred))"
   ],
   "metadata": {
    "collapsed": false,
    "ExecuteTime": {
     "end_time": "2024-06-08T21:13:51.574009Z",
     "start_time": "2024-06-08T21:13:51.569959Z"
    }
   },
   "id": "a3b313f4ecc23b67",
   "execution_count": 12
  },
  {
   "cell_type": "code",
   "outputs": [],
   "source": [
    "load_dataset = Functional(datasets.load_iris, outputs=[\"raw_iris_dataset\"])\n",
    "to_X_y = Functional(make_X_y, inputs=[\"raw_iris_dataset\"], outputs=[\"X\", \"y\"])\n",
    "split = Functional(lambda X, y: tuple(train_test_split(X, y)), debug=False, inputs=[\"X\", \"y\"], outputs=[\"X_train\", \"X_test\", \"y_train\", \"y_test\"])\n",
    "train_model = Functional(lambda X, y: RandomForestClassifier().fit(X, y.values[:, 0]), debug=False, inputs=[\"X_train\", \"y_train\"], outputs=[\"model\"]) \n",
    "test_model = Functional(lambda X, model: model.predict(X), debug=False, inputs=[\"X_test\", \"model\"], outputs=[\"y_pred\"])\n",
    "print_report = Functional(print_classification_report, debug=True, inputs=[\"y_test\", \"y_pr{ed}\"], outputs=[\"_\"], input_type=\"kwargs\")"
   ],
   "metadata": {
    "collapsed": false,
    "ExecuteTime": {
     "end_time": "2024-06-08T21:14:07.925572Z",
     "start_time": "2024-06-08T21:14:07.918013Z"
    }
   },
   "id": "3d3729ca9c456b04",
   "execution_count": 16
  },
  {
   "cell_type": "code",
   "outputs": [],
   "source": [
    "model = Model([load_dataset, to_X_y, split, train_model, test_model, print_report], debug=False, outputs=[\"model\", \"y_test\", \"y_pred\"])"
   ],
   "metadata": {
    "collapsed": false,
    "ExecuteTime": {
     "end_time": "2024-06-08T21:14:08.427503Z",
     "start_time": "2024-06-08T21:14:08.422891Z"
    }
   },
   "id": "e3dc9cfd37c67c3b",
   "execution_count": 17
  },
  {
   "cell_type": "code",
   "outputs": [
    {
     "name": "stdout",
     "output_type": "stream",
     "text": [
      "Executing layer: Functional: 27\n",
      "- Input: {'y_test':      target\n",
      "49        0\n",
      "1         0\n",
      "16        0\n",
      "24        0\n",
      "8         0\n",
      "137       2\n",
      "28        0\n",
      "43        0\n",
      "104       2\n",
      "133       2\n",
      "146       2\n",
      "115       2\n",
      "51        1\n",
      "54        1\n",
      "108       2\n",
      "107       2\n",
      "37        0\n",
      "124       2\n",
      "113       2\n",
      "18        0\n",
      "116       2\n",
      "140       2\n",
      "34        0\n",
      "101       2\n",
      "31        0\n",
      "33        0\n",
      "38        0\n",
      "6         0\n",
      "70        1\n",
      "144       2\n",
      "89        1\n",
      "96        1\n",
      "74        1\n",
      "120       2\n",
      "122       2\n",
      "110       2\n",
      "7         0\n",
      "62        1, 'y_pred': array([0, 0, 0, 0, 0, 2, 0, 0, 2, 1, 2, 2, 1, 1, 2, 2, 0, 2, 2, 0, 2, 2,\n",
      "       0, 2, 0, 0, 0, 0, 2, 2, 1, 1, 1, 2, 2, 2, 0, 1])}\n",
      "- Processing...\n",
      "              precision    recall  f1-score   support\n",
      "\n",
      "           0       1.00      1.00      1.00        15\n",
      "           1       0.86      0.86      0.86         7\n",
      "           2       0.94      0.94      0.94        16\n",
      "\n",
      "    accuracy                           0.95        38\n",
      "   macro avg       0.93      0.93      0.93        38\n",
      "weighted avg       0.95      0.95      0.95        38\n"
     ]
    },
    {
     "ename": "AssertionError",
     "evalue": "Expected 0 outputs, got 1",
     "output_type": "error",
     "traceback": [
      "\u001B[1;31m---------------------------------------------------------------------------\u001B[0m",
      "\u001B[1;31mAssertionError\u001B[0m                            Traceback (most recent call last)",
      "Cell \u001B[1;32mIn[18], line 1\u001B[0m\n\u001B[1;32m----> 1\u001B[0m result \u001B[38;5;241m=\u001B[39m model()\n",
      "File \u001B[1;32m~\\OneDrive\\Desktop\\Flow\\flow\\layer.py:50\u001B[0m, in \u001B[0;36mLayer.__call__\u001B[1;34m(self, *args, **kwargs)\u001B[0m\n\u001B[0;32m     48\u001B[0m     results \u001B[38;5;241m=\u001B[39m \u001B[38;5;28mself\u001B[39m\u001B[38;5;241m.\u001B[39mcall(\u001B[38;5;241m*\u001B[39margs)\n\u001B[0;32m     49\u001B[0m \u001B[38;5;28;01melse\u001B[39;00m:\n\u001B[1;32m---> 50\u001B[0m     results \u001B[38;5;241m=\u001B[39m \u001B[38;5;28mself\u001B[39m\u001B[38;5;241m.\u001B[39mcall(\u001B[38;5;241m*\u001B[39m\u001B[38;5;241m*\u001B[39mkwargs)\n\u001B[0;32m     52\u001B[0m \u001B[38;5;66;03m# call_arg = args\u001B[39;00m\n\u001B[0;32m     53\u001B[0m \u001B[38;5;66;03m# if kwargs:\u001B[39;00m\n\u001B[0;32m     54\u001B[0m \u001B[38;5;66;03m#     call_arg = call_arg + (kwargs, )\u001B[39;00m\n\u001B[0;32m     55\u001B[0m \n\u001B[0;32m     56\u001B[0m \u001B[38;5;66;03m# results = self.call(*args, **kwargs) if not self.__raw_inputs else self.call(call_arg)\u001B[39;00m\n\u001B[0;32m     58\u001B[0m \u001B[38;5;28;01mif\u001B[39;00m \u001B[38;5;129;01mnot\u001B[39;00m \u001B[38;5;28mhasattr\u001B[39m(results, \u001B[38;5;124m\"\u001B[39m\u001B[38;5;124m__len__\u001B[39m\u001B[38;5;124m\"\u001B[39m) \u001B[38;5;129;01mor\u001B[39;00m \u001B[38;5;28mlen\u001B[39m(results) \u001B[38;5;241m!=\u001B[39m \u001B[38;5;28mlen\u001B[39m(\u001B[38;5;28mself\u001B[39m\u001B[38;5;241m.\u001B[39m_output_names):\n",
      "File \u001B[1;32m~\\OneDrive\\Desktop\\Flow\\flow\\model.py:49\u001B[0m, in \u001B[0;36mModel.call\u001B[1;34m(self, **kwargs)\u001B[0m\n\u001B[0;32m     47\u001B[0m layers_queue\u001B[38;5;241m.\u001B[39mremove(layer)\n\u001B[0;32m     48\u001B[0m layer_inputs \u001B[38;5;241m=\u001B[39m {name: state[name] \u001B[38;5;28;01mfor\u001B[39;00m name \u001B[38;5;129;01min\u001B[39;00m actual_layer_inputs}\n\u001B[1;32m---> 49\u001B[0m layer_outputs \u001B[38;5;241m=\u001B[39m layer(\u001B[38;5;241m*\u001B[39m\u001B[38;5;241m*\u001B[39mlayer_inputs)\n\u001B[0;32m     50\u001B[0m state\u001B[38;5;241m.\u001B[39mupdate(layer_outputs)\n\u001B[0;32m     51\u001B[0m flag \u001B[38;5;241m=\u001B[39m \u001B[38;5;28;01mFalse\u001B[39;00m\n",
      "File \u001B[1;32m~\\OneDrive\\Desktop\\Flow\\flow\\layer.py:61\u001B[0m, in \u001B[0;36mLayer.__call__\u001B[1;34m(self, *args, **kwargs)\u001B[0m\n\u001B[0;32m     58\u001B[0m \u001B[38;5;28;01mif\u001B[39;00m \u001B[38;5;129;01mnot\u001B[39;00m \u001B[38;5;28mhasattr\u001B[39m(results, \u001B[38;5;124m\"\u001B[39m\u001B[38;5;124m__len__\u001B[39m\u001B[38;5;124m\"\u001B[39m) \u001B[38;5;129;01mor\u001B[39;00m \u001B[38;5;28mlen\u001B[39m(results) \u001B[38;5;241m!=\u001B[39m \u001B[38;5;28mlen\u001B[39m(\u001B[38;5;28mself\u001B[39m\u001B[38;5;241m.\u001B[39m_output_names):\n\u001B[0;32m     59\u001B[0m     results \u001B[38;5;241m=\u001B[39m (results,)\n\u001B[1;32m---> 61\u001B[0m \u001B[38;5;28;01massert\u001B[39;00m \u001B[38;5;28mlen\u001B[39m(results) \u001B[38;5;241m==\u001B[39m \u001B[38;5;28mlen\u001B[39m(\u001B[38;5;28mself\u001B[39m\u001B[38;5;241m.\u001B[39m_output_names), \u001B[38;5;124mf\u001B[39m\u001B[38;5;124m\"\u001B[39m\u001B[38;5;124mExpected \u001B[39m\u001B[38;5;132;01m{\u001B[39;00m\u001B[38;5;28mlen\u001B[39m(\u001B[38;5;28mself\u001B[39m\u001B[38;5;241m.\u001B[39m_output_names)\u001B[38;5;132;01m}\u001B[39;00m\u001B[38;5;124m outputs, got \u001B[39m\u001B[38;5;132;01m{\u001B[39;00m\u001B[38;5;28mlen\u001B[39m(results)\u001B[38;5;132;01m}\u001B[39;00m\u001B[38;5;124m\"\u001B[39m\n\u001B[0;32m     62\u001B[0m outputs \u001B[38;5;241m=\u001B[39m \u001B[38;5;28mdict\u001B[39m(\u001B[38;5;28mzip\u001B[39m(\u001B[38;5;28mself\u001B[39m\u001B[38;5;241m.\u001B[39m_output_names, results))\n\u001B[0;32m     64\u001B[0m \u001B[38;5;28;01mif\u001B[39;00m \u001B[38;5;28mself\u001B[39m\u001B[38;5;241m.\u001B[39m__debug:\n",
      "\u001B[1;31mAssertionError\u001B[0m: Expected 0 outputs, got 1"
     ]
    }
   ],
   "source": [
    "result = model()"
   ],
   "metadata": {
    "collapsed": false,
    "ExecuteTime": {
     "end_time": "2024-06-08T21:14:08.964482Z",
     "start_time": "2024-06-08T21:14:08.759204Z"
    }
   },
   "id": "69ba09383e01f7ba",
   "execution_count": 18
  },
  {
   "cell_type": "code",
   "outputs": [],
   "source": [
    "y_test = result[\"y_test\"].values[:, 0]\n",
    "y_pred = result[\"y_pred\"]"
   ],
   "metadata": {
    "collapsed": false,
    "ExecuteTime": {
     "end_time": "2024-06-08T16:57:42.932310Z",
     "start_time": "2024-06-08T16:57:42.925247Z"
    }
   },
   "id": "9e72eb68dc19e52",
   "execution_count": 36
  },
  {
   "cell_type": "code",
   "outputs": [
    {
     "name": "stdout",
     "output_type": "stream",
     "text": [
      "              precision    recall  f1-score   support\n",
      "\n",
      "           0       1.00      1.00      1.00        12\n",
      "           1       0.85      1.00      0.92        11\n",
      "           2       1.00      0.87      0.93        15\n",
      "\n",
      "    accuracy                           0.95        38\n",
      "   macro avg       0.95      0.96      0.95        38\n",
      "weighted avg       0.96      0.95      0.95        38\n"
     ]
    }
   ],
   "source": [
    "print(classification_report(y_test, y_pred))"
   ],
   "metadata": {
    "collapsed": false,
    "ExecuteTime": {
     "end_time": "2024-06-08T16:58:16.398451Z",
     "start_time": "2024-06-08T16:58:16.373137Z"
    }
   },
   "id": "232395fcd136e35d",
   "execution_count": 39
  },
  {
   "cell_type": "code",
   "outputs": [
    {
     "data": {
      "text/plain": "True"
     },
     "execution_count": 45,
     "metadata": {},
     "output_type": "execute_result"
    }
   ],
   "source": [
    "hasattr([1,2 ,3], \"__len__\")"
   ],
   "metadata": {
    "collapsed": false,
    "ExecuteTime": {
     "end_time": "2024-06-08T17:08:21.650932Z",
     "start_time": "2024-06-08T17:08:21.639351Z"
    }
   },
   "id": "aab1fa3bf6c7a57b",
   "execution_count": 45
  },
  {
   "cell_type": "code",
   "outputs": [],
   "source": [],
   "metadata": {
    "collapsed": false
   },
   "id": "4b6b7818d475b3c8"
  }
 ],
 "metadata": {
  "kernelspec": {
   "name": "flow",
   "language": "python",
   "display_name": "flow"
  },
  "language_info": {
   "codemirror_mode": {
    "name": "ipython",
    "version": 2
   },
   "file_extension": ".py",
   "mimetype": "text/x-python",
   "name": "python",
   "nbconvert_exporter": "python",
   "pygments_lexer": "ipython2",
   "version": "2.7.6"
  }
 },
 "nbformat": 4,
 "nbformat_minor": 5
}
