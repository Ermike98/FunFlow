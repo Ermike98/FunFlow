{
 "cells": [
  {
   "cell_type": "code",
   "source": [
    "import re\n",
    "from collections import defaultdict\n",
    "from debugpy.launcher import output"
   ],
   "metadata": {
    "collapsed": false,
    "ExecuteTime": {
     "end_time": "2024-06-09T10:52:30.362144Z",
     "start_time": "2024-06-09T10:52:30.355961Z"
    }
   },
   "id": "f7a6f16b0562eb48",
   "outputs": [],
   "execution_count": 6
  },
  {
   "cell_type": "code",
   "outputs": [],
   "source": [
    "class Node:\n",
    "    def __init__(self, name, inputs, outputs):\n",
    "        self.name = name\n",
    "        self.inputs = inputs\n",
    "        self.output = outputs"
   ],
   "metadata": {
    "collapsed": false,
    "ExecuteTime": {
     "end_time": "2024-06-08T20:43:32.775851Z",
     "start_time": "2024-06-08T20:43:32.771094Z"
    }
   },
   "id": "6577160b3cff3b11",
   "execution_count": 3
  },
  {
   "cell_type": "code",
   "outputs": [],
   "source": [
    "l1 = Node('l1', [], [\"dataset\"])\n",
    "l2 = Node('l2', [\"dataset\"], [\"X\", \"y\"])"
   ],
   "metadata": {
    "collapsed": false,
    "ExecuteTime": {
     "end_time": "2024-06-08T20:44:13.350264Z",
     "start_time": "2024-06-08T20:44:13.346810Z"
    }
   },
   "id": "bfa1c3d5c3165a5f",
   "execution_count": 4
  },
  {
   "cell_type": "code",
   "outputs": [],
   "source": [
    "def get_layer_inputs(layer_inputs, state_names):\n",
    "    engine = TemplateEngine(state_names)\n",
    "    actual_layer_inputs = []\n",
    "    for layer_input in layer_inputs:\n",
    "        actual_inputs = engine.find_matches(layer_input)\n",
    "        # print(f\"Layer Inputs: {layer_input}, Actual Inputs: {actual_inputs}\")\n",
    "        if actual_inputs is None:\n",
    "            return None\n",
    "\n",
    "        actual_layer_inputs.extend(actual_inputs)\n",
    "\n",
    "    return actual_layer_inputs\n",
    "\n",
    "\n",
    "def create_template_pattern_string(templates, layer_input: str):\n",
    "    template_pattern_string = layer_input\n",
    "    for template in templates:\n",
    "        template_pattern_string = template_pattern_string.replace(template, r\"(.+)\")\n",
    "\n",
    "    return template_pattern_string\n",
    "\n",
    "\n",
    "\n",
    "class TemplateEngine:\n",
    "\n",
    "    def __init__(self, state_names: list[str]):\n",
    "        self.state_names = state_names\n",
    "        self.template_maps = dict()\n",
    "\n",
    "    def find_matches(self, layer_input) -> list | None:\n",
    "        template_pattern = r\"{.*?}\"\n",
    "        templates = re.findall(template_pattern, layer_input)\n",
    "        # print(\"Templates: \", templates)\n",
    "        if not templates:\n",
    "            # There are no templates => the name of the input is equal to layer_input\n",
    "            if layer_input in self.state_names:\n",
    "                return [layer_input]\n",
    "            # Input is not available in the state\n",
    "            return None\n",
    "\n",
    "        pattern = create_template_pattern_string(templates, layer_input)\n",
    "        # print(\"Pattern: \", pattern)\n",
    "        matches = []\n",
    "        for name in self.state_names:\n",
    "            # print(f\"re.match({pattern}, {name}): {re.match(pattern, name)}\")\n",
    "            if re.match(pattern, name) is not None:\n",
    "                matches.append(name)\n",
    "\n",
    "        # Input is not available in the state\n",
    "        if not matches:\n",
    "            return None\n",
    "\n",
    "        return matches"
   ],
   "metadata": {
    "collapsed": false
   },
   "id": "20112c038a154146",
   "execution_count": null
  },
  {
   "cell_type": "code",
   "outputs": [],
   "source": [
    "def is_output_in_inputs(output_name, input_names):\n",
    "    template_pattern = r\"{.*?}\"\n",
    "    templates = re.findall(template_pattern, output_name)\n",
    "    # print(\"Templates: \", templates)\n",
    "    if not templates:\n",
    "        # There are no templates => the name of the input is equal to layer_input\n",
    "        if layer_input in self.state_names:\n",
    "            return [layer_input]\n",
    "        # Input is not available in the state\n",
    "        return None\n",
    "\n",
    "    pattern = create_template_pattern_string(templates, layer_input)\n",
    "    # print(\"Pattern: \", pattern)\n",
    "    matches = []\n",
    "    for name in self.state_names:\n",
    "        # print(f\"re.match({pattern}, {name}): {re.match(pattern, name)}\")\n",
    "        if re.match(pattern, name) is not None:\n",
    "            matches.append(name)\n",
    "\n",
    "    # Input is not available in the state\n",
    "    if not matches:\n",
    "        return None\n",
    "\n",
    "    return matches"
   ],
   "metadata": {
    "collapsed": false
   },
   "id": "81a15d0c3143549c",
   "execution_count": null
  },
  {
   "cell_type": "code",
   "outputs": [],
   "source": [
    "def is_predecessor(l1_outputs, l2_inputs):\n",
    "    if not l2_inputs or not l1_outputs:\n",
    "        return False\n",
    "    \n",
    "    for output in l1_outputs:\n",
    "        pass"
   ],
   "metadata": {
    "collapsed": false
   },
   "id": "fe067f1da1b997a2",
   "execution_count": null
  },
  {
   "cell_type": "code",
   "outputs": [
    {
     "data": {
      "text/plain": "[1, 2]"
     },
     "execution_count": 15,
     "metadata": {},
     "output_type": "execute_result"
    }
   ],
   "source": [
    "l = [1, 2,3]\n",
    "l.pop()\n",
    "l"
   ],
   "metadata": {
    "collapsed": false,
    "ExecuteTime": {
     "end_time": "2024-06-08T22:41:49.812715Z",
     "start_time": "2024-06-08T22:41:49.807302Z"
    }
   },
   "id": "aafc0242474ad3ac",
   "execution_count": 15
  },
  {
   "metadata": {},
   "cell_type": "code",
   "outputs": [],
   "execution_count": null,
   "source": "",
   "id": "5180c1d8657031f7"
  },
  {
   "metadata": {
    "ExecuteTime": {
     "end_time": "2024-06-09T10:49:43.613385Z",
     "start_time": "2024-06-09T10:49:43.603960Z"
    }
   },
   "cell_type": "code",
   "source": [
    "class Node:\n",
    "    def __init__(self, name, inputs, outputs, actual_inputs=None, actual_outputs=None, predecessors=None, ):\n",
    "        self.name = name\n",
    "        self.inputs = inputs\n",
    "        self.outputs = outputs\n",
    "        self.actual_inputs = actual_inputs\n",
    "        self.actual_outputs = actual_outputs\n",
    "        self.predecessors = predecessors if predecessors is not None else []"
   ],
   "id": "98b1b610b091506a",
   "outputs": [],
   "execution_count": 2
  },
  {
   "metadata": {},
   "cell_type": "code",
   "outputs": [],
   "execution_count": 5,
   "source": [
    "def all_node_predecessor_are_ordered(node, ordered):\n",
    "    return True\n",
    "\n",
    "def find_node_successor(node, ordered):\n",
    "    return []\n",
    "\n",
    "def process_node(node, ordered, quarantined, processing, state_producer):\n",
    "    if all_node_predecessor_are_ordered(n, ordered):\n",
    "        ordered.append(n)\n",
    "        \n",
    "        successors = find_node_successor(n, ordered)\n",
    "        if successors:\n",
    "            quarantined.append(n)\n",
    "            processing.extend(successors) # extend without duplicates\n",
    "            \n",
    "            for successor in successors:\n",
    "                process_node(successor, ordered, quarantined, processing, state_producer)\n",
    "        \n",
    "            quarantined.remove(node)\n",
    "    else:\n",
    "        pass"
   ],
   "id": "d5455eb36d5e7cf2"
  },
  {
   "metadata": {
    "ExecuteTime": {
     "end_time": "2024-06-09T10:50:21.561855Z",
     "start_time": "2024-06-09T10:50:21.553591Z"
    }
   },
   "cell_type": "code",
   "source": [
    "nodes = [\n",
    "    Node(\"A\", [\"x\"], [\"y\"]),\n",
    "    Node(\"A\", [\"y\"], [\"z\"])\n",
    "]"
   ],
   "id": "155f8df835874a6d",
   "outputs": [],
   "execution_count": 3
  },
  {
   "metadata": {
    "ExecuteTime": {
     "end_time": "2024-06-09T10:52:17.230099Z",
     "start_time": "2024-06-09T10:52:17.223026Z"
    }
   },
   "cell_type": "code",
   "source": "user_inputs = {\"x\": 10}",
   "id": "409cea0c4895ff80",
   "outputs": [],
   "execution_count": 4
  },
  {
   "cell_type": "code",
   "outputs": [],
   "source": [
    "state_producer = defaultdict(list)  # state[actual_input_name] => list of producers\n",
    "\n",
    "for _input in user_inputs.keys():\n",
    "    state_producer[_input] = []\n",
    "\n",
    "processing = []\n",
    "ordered = []\n",
    "quarantined = []\n",
    "\n",
    "while nodes:\n",
    "    node = nodes.pop()\n",
    "    # nodes.append(node)\n",
    "    \n",
    "    processing.append(node)\n",
    "    while processing:\n",
    "        n = processing.pop()\n",
    "        \n",
    "        process_node(n, ordered, quarantined, processing, state_producer)"
   ],
   "metadata": {
    "collapsed": false,
    "ExecuteTime": {
     "end_time": "2024-06-08T22:25:12.874335Z",
     "start_time": "2024-06-08T22:25:12.871049Z"
    }
   },
   "id": "1df36c963e4aa932",
   "execution_count": 5
  },
  {
   "cell_type": "code",
   "outputs": [],
   "source": [],
   "metadata": {
    "collapsed": false,
    "ExecuteTime": {
     "end_time": "2024-06-08T22:25:13.129542Z",
     "start_time": "2024-06-08T22:25:13.126219Z"
    }
   },
   "id": "3b48f27777138e12",
   "execution_count": 5
  },
  {
   "cell_type": "code",
   "outputs": [],
   "source": "",
   "metadata": {
    "collapsed": false
   },
   "id": "a95b7a66f44aee89",
   "execution_count": null
  }
 ],
 "metadata": {
  "kernelspec": {
   "display_name": "Python 3",
   "language": "python",
   "name": "python3"
  },
  "language_info": {
   "codemirror_mode": {
    "name": "ipython",
    "version": 2
   },
   "file_extension": ".py",
   "mimetype": "text/x-python",
   "name": "python",
   "nbconvert_exporter": "python",
   "pygments_lexer": "ipython2",
   "version": "2.7.6"
  }
 },
 "nbformat": 4,
 "nbformat_minor": 5
}
