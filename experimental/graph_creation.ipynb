{
 "cells": [
  {
   "cell_type": "code",
   "id": "initial_id",
   "metadata": {
    "collapsed": true,
    "ExecuteTime": {
     "end_time": "2024-06-13T17:42:20.516053Z",
     "start_time": "2024-06-13T17:42:20.504948Z"
    }
   },
   "source": [
    "import re\n",
    "from collections import defaultdict\n",
    "import itertools"
   ],
   "outputs": [],
   "execution_count": 1
  },
  {
   "metadata": {
    "ExecuteTime": {
     "end_time": "2024-06-13T17:50:59.228512Z",
     "start_time": "2024-06-13T17:50:59.219936Z"
    }
   },
   "cell_type": "code",
   "source": [
    "# def get_layer_inputs(layer_inputs, state_names):\n",
    "#     actual_layer_inputs = []\n",
    "#     for layer_input in layer_inputs:\n",
    "#         actual_inputs = find_matches(layer_input, state_names)\n",
    "#         # print(f\"Layer Inputs: {layer_input}, Actual Inputs: {actual_inputs}\")\n",
    "#         if actual_inputs is None:\n",
    "#             return None\n",
    "# \n",
    "#         actual_layer_inputs.extend(actual_inputs)\n",
    "# \n",
    "#     return actual_layer_inputs\n",
    "\n",
    "def create_template_pattern_string(templates, layer_input: str):\n",
    "    template_pattern_string = layer_input\n",
    "    for template in templates:\n",
    "        template_pattern_string = template_pattern_string.replace(template, r\"(.+)\")\n",
    "\n",
    "    return template_pattern_string\n",
    "\n",
    "def find_actual_input_names(layer_input, state_names):\n",
    "    template_pattern = r\"{.*?}\"\n",
    "    templates = re.findall(template_pattern, layer_input)\n",
    "    # print(\"Templates: \", templates)\n",
    "    if not templates:\n",
    "        # There are no templates => the name of the input is equal to layer_input\n",
    "        if layer_input in state_names:\n",
    "            return [layer_input], None\n",
    "        # Input is not available in the state\n",
    "        return None, None\n",
    "\n",
    "    pattern = create_template_pattern_string(templates, layer_input)\n",
    "    template_values = defaultdict(set)\n",
    "    actual_names = []\n",
    "    \n",
    "    for name in state_names:\n",
    "        # print(f\"re.findall({pattern}, {name}): {re.findall(pattern, name)}\")\n",
    "        templates_value = re.findall(pattern, name)\n",
    "        if templates_value:\n",
    "            actual_names.append(name)\n",
    "            \n",
    "            for value, template in zip(templates_value[0], templates):\n",
    "                template_values[template].add(value)\n",
    "\n",
    "    # Input is not available in the state\n",
    "    if not actual_names:\n",
    "        return None, None\n",
    "\n",
    "    return actual_names, template_values\n",
    "\n",
    "def replace_templates(name, templates, templates_value):\n",
    "    for template, value in zip(templates, templates_value):\n",
    "        name = name.replace(template, value)\n",
    "\n",
    "    return name\n",
    "\n",
    "def find_actual_output_names(layer_outputs, template_values):\n",
    "    actual_outputs = []\n",
    "    template_pattern = r\"{.*?}\"\n",
    "    \n",
    "    for layer_output in layer_outputs:\n",
    "        templates = re.findall(template_pattern, layer_output)\n",
    "        if not templates:\n",
    "            actual_outputs.append(layer_output)\n",
    "            continue\n",
    "            \n",
    "        for templates_value in itertools.product(*[template_values[template] for template in templates]):\n",
    "            actual_outputs.append(replace_templates(layer_output, templates, templates_value))\n",
    "    \n",
    "    return actual_outputs"
   ],
   "id": "c61f6dc03a447050",
   "outputs": [],
   "execution_count": 12
  },
  {
   "metadata": {
    "ExecuteTime": {
     "end_time": "2024-06-13T17:45:33.590061Z",
     "start_time": "2024-06-13T17:45:33.581131Z"
    }
   },
   "cell_type": "code",
   "source": [
    "actual_names, template_values = find_actual_input_names(\"test_{id}_{version}\", [\"test_1_v2\", \"test_2_v2\", \"test_3_v1\"])\n",
    "find_actual_output_names([\"model_{id}_{version}\", \"id: {id}\", \"version: {version}\"], template_values)"
   ],
   "id": "54f04a5f3ad7c075",
   "outputs": [
    {
     "data": {
      "text/plain": [
       "['model_2_v1',\n",
       " 'model_2_v2',\n",
       " 'model_3_v1',\n",
       " 'model_3_v2',\n",
       " 'model_1_v1',\n",
       " 'model_1_v2',\n",
       " 'id: 2',\n",
       " 'id: 3',\n",
       " 'id: 1',\n",
       " 'version: v1',\n",
       " 'version: v2']"
      ]
     },
     "execution_count": 7,
     "metadata": {},
     "output_type": "execute_result"
    }
   ],
   "execution_count": 7
  },
  {
   "metadata": {
    "ExecuteTime": {
     "end_time": "2024-06-13T18:09:42.108429Z",
     "start_time": "2024-06-13T18:09:42.102046Z"
    }
   },
   "cell_type": "code",
   "source": [
    "find_actual_input_names(\"a_{id}\", [\"a_1\", \"a_2\", \"a_3\"])\n",
    "find_actual_input_names(\"a\", [\"a_1\", \"a_2\", \"a\"])\n",
    "find_actual_output_names([\"model_{id}_{version}\", \"id: {id_v2}\", \"version: {version}\"], template_values)\n",
    "find_actual_output_names([\"id: {id_V2}\"], template_values)\n",
    "# template_values"
   ],
   "id": "b027b507b6f4ab71",
   "outputs": [
    {
     "data": {
      "text/plain": [
       "[]"
      ]
     },
     "execution_count": 22,
     "metadata": {},
     "output_type": "execute_result"
    }
   ],
   "execution_count": 22
  },
  {
   "metadata": {
    "ExecuteTime": {
     "end_time": "2024-06-13T18:09:15.944610Z",
     "start_time": "2024-06-13T18:09:15.938454Z"
    }
   },
   "cell_type": "code",
   "source": [
    "l = [\"a\", \"b\"]\n",
    "l.extend([1, 2, 3])\n",
    "l"
   ],
   "id": "b3681707d5cb6bdd",
   "outputs": [
    {
     "data": {
      "text/plain": [
       "['a', 'b', 1, 2, 3]"
      ]
     },
     "execution_count": 21,
     "metadata": {},
     "output_type": "execute_result"
    }
   ],
   "execution_count": 21
  },
  {
   "metadata": {
    "ExecuteTime": {
     "end_time": "2024-06-13T19:07:44.655034Z",
     "start_time": "2024-06-13T19:07:44.647547Z"
    }
   },
   "cell_type": "code",
   "source": [
    "class Node:\n",
    "    def __init__(self, name, inputs, outputs, actual_inputs=None, actual_outputs=None, predecessors=None, ):\n",
    "        self.name = name\n",
    "        self.inputs = inputs\n",
    "        self.outputs = outputs\n",
    "        self.actual_inputs = actual_inputs\n",
    "        self.actual_outputs = actual_outputs\n",
    "        self.predecessors = predecessors if predecessors is not None else []\n",
    "        \n",
    "    def update_actuals(self, state_producer):\n",
    "        actual_inputs = []\n",
    "        actual_outputs = []\n",
    "        predecessors_set = set()\n",
    "        \n",
    "        for input_name in self.inputs:\n",
    "            actual_names, template_values = find_actual_input_names(input_name, state_producer.keys())\n",
    "            \n",
    "            print(f\"input_name: {input_name}, state_keys: {state_producer.keys()}, actual_names: {actual_names}, template_values: {template_values}\")\n",
    "            \n",
    "            if actual_names is None:\n",
    "                self.actual_inputs = None\n",
    "                self.actual_outputs = None\n",
    "                self.predecessors = []\n",
    "                \n",
    "                return \n",
    "            \n",
    "            actual_inputs.extend(actual_names)\n",
    "            actual_outputs.extend(find_actual_output_names(self.outputs, template_values))\n",
    "        \n",
    "            \n",
    "            for actual_name in actual_names:\n",
    "                predecessors_set.update(state_producer[actual_name])\n",
    "                \n",
    "        self.actual_inputs = actual_inputs\n",
    "        self.actual_outputs = actual_outputs\n",
    "        self.predecessors = list(predecessors_set)"
   ],
   "id": "931491d3279f406b",
   "outputs": [],
   "execution_count": 58
  },
  {
   "metadata": {
    "ExecuteTime": {
     "end_time": "2024-06-13T18:15:10.809094Z",
     "start_time": "2024-06-13T18:15:10.803116Z"
    }
   },
   "cell_type": "code",
   "source": [
    "def test_f(x):\n",
    "    print(x)\n",
    "    return x\n",
    "\n",
    "any(map(lambda x: test_f(x) > 1, range(10)))"
   ],
   "id": "a91b9299bd9c8f16",
   "outputs": [
    {
     "name": "stdout",
     "output_type": "stream",
     "text": [
      "0\n",
      "1\n",
      "2\n"
     ]
    },
    {
     "data": {
      "text/plain": [
       "True"
      ]
     },
     "execution_count": 23,
     "metadata": {},
     "output_type": "execute_result"
    }
   ],
   "execution_count": 23
  },
  {
   "metadata": {
    "ExecuteTime": {
     "end_time": "2024-06-13T17:42:39.889061Z",
     "start_time": "2024-06-13T17:42:39.883908Z"
    }
   },
   "cell_type": "code",
   "source": [
    "nodes = [\n",
    "    Node(\"A\", [\"x\"], [\"y\"]),\n",
    "    Node(\"A\", [\"y\"], [\"z\"])\n",
    "]\n",
    "\n",
    "user_inputs = {\"x\": 10}"
   ],
   "id": "8270275d6a80f06d",
   "outputs": [],
   "execution_count": 3
  },
  {
   "metadata": {
    "ExecuteTime": {
     "end_time": "2024-06-13T17:48:04.933890Z",
     "start_time": "2024-06-13T17:48:04.928229Z"
    }
   },
   "cell_type": "code",
   "source": [
    "s = set()\n",
    "s.update([1, 2])\n",
    "s.update([10, 2])\n",
    "s"
   ],
   "id": "1f23966a3b9cfd5",
   "outputs": [
    {
     "data": {
      "text/plain": [
       "{1, 2, 10}"
      ]
     },
     "execution_count": 9,
     "metadata": {},
     "output_type": "execute_result"
    }
   ],
   "execution_count": 9
  },
  {
   "metadata": {
    "ExecuteTime": {
     "end_time": "2024-06-09T11:33:57.117463Z",
     "start_time": "2024-06-09T11:33:57.107195Z"
    }
   },
   "cell_type": "code",
   "source": [
    "state_producer = defaultdict(list)  # state[actual_input_name] => list of producers\n",
    "\n",
    "for _input in user_inputs.keys():\n",
    "    state_producer[_input] = []"
   ],
   "id": "ab227deeaa80e33",
   "outputs": [],
   "execution_count": 6
  },
  {
   "metadata": {
    "ExecuteTime": {
     "end_time": "2024-06-09T11:33:58.687428Z",
     "start_time": "2024-06-09T11:33:58.681077Z"
    }
   },
   "cell_type": "code",
   "source": [
    "processing = []\n",
    "ordered = []\n",
    "quarantined = []"
   ],
   "id": "ec9dad46cfead2d",
   "outputs": [],
   "execution_count": 7
  },
  {
   "metadata": {
    "ExecuteTime": {
     "end_time": "2024-06-09T11:34:46.493279Z",
     "start_time": "2024-06-09T11:34:46.484221Z"
    }
   },
   "cell_type": "code",
   "source": [
    "node = nodes.pop()\n",
    "\n",
    "processing.append(node)\n",
    "# while processing:\n",
    "n = processing.pop()\n",
    "    \n",
    "process_node(n, ordered, quarantined, processing, state_producer)\n"
   ],
   "id": "a1298534ca143d7c",
   "outputs": [
    {
     "data": {
      "text/plain": [
       "'A'"
      ]
     },
     "execution_count": 9,
     "metadata": {},
     "output_type": "execute_result"
    }
   ],
   "execution_count": 9
  },
  {
   "metadata": {
    "ExecuteTime": {
     "end_time": "2024-06-09T11:37:02.963315Z",
     "start_time": "2024-06-09T11:37:02.954418Z"
    }
   },
   "cell_type": "code",
   "source": "actual_names = get_layer_inputs(n.inputs, state_producer.keys())\n",
   "id": "f0b3d36503480dbb",
   "outputs": [
    {
     "data": {
      "text/plain": [
       "['x']"
      ]
     },
     "execution_count": 10,
     "metadata": {},
     "output_type": "execute_result"
    }
   ],
   "execution_count": 10
  },
  {
   "metadata": {
    "ExecuteTime": {
     "end_time": "2024-06-13T18:40:28.591103Z",
     "start_time": "2024-06-13T18:40:27.915713Z"
    }
   },
   "cell_type": "code",
   "source": [
    "l = [i for i in range(10) if not i % 2]\n",
    "l.remove([0, 2, 4])\n",
    "l"
   ],
   "id": "f9f66ef3a0f21df5",
   "outputs": [
    {
     "ename": "ValueError",
     "evalue": "list.remove(x): x not in list",
     "output_type": "error",
     "traceback": [
      "\u001B[1;31m---------------------------------------------------------------------------\u001B[0m",
      "\u001B[1;31mValueError\u001B[0m                                Traceback (most recent call last)",
      "Cell \u001B[1;32mIn[28], line 2\u001B[0m\n\u001B[0;32m      1\u001B[0m l \u001B[38;5;241m=\u001B[39m [i \u001B[38;5;28;01mfor\u001B[39;00m i \u001B[38;5;129;01min\u001B[39;00m \u001B[38;5;28mrange\u001B[39m(\u001B[38;5;241m10\u001B[39m) \u001B[38;5;28;01mif\u001B[39;00m \u001B[38;5;129;01mnot\u001B[39;00m i \u001B[38;5;241m%\u001B[39m \u001B[38;5;241m2\u001B[39m]\n\u001B[1;32m----> 2\u001B[0m l\u001B[38;5;241m.\u001B[39mremove([\u001B[38;5;241m0\u001B[39m, \u001B[38;5;241m2\u001B[39m, \u001B[38;5;241m4\u001B[39m])\n",
      "\u001B[1;31mValueError\u001B[0m: list.remove(x): x not in list"
     ]
    }
   ],
   "execution_count": 28
  },
  {
   "metadata": {
    "ExecuteTime": {
     "end_time": "2024-06-13T17:43:24.949991Z",
     "start_time": "2024-06-13T17:43:24.945988Z"
    }
   },
   "cell_type": "code",
   "source": "from typing import List",
   "id": "7b310d885f14614a",
   "outputs": [],
   "execution_count": 4
  },
  {
   "metadata": {
    "ExecuteTime": {
     "end_time": "2024-06-13T19:17:02.719396Z",
     "start_time": "2024-06-13T19:17:02.708716Z"
    }
   },
   "cell_type": "code",
   "source": [
    "def is_any_in_input(input_names, other_names):\n",
    "    return any(map(lambda x: find_actual_input_names(x, other_names)[0] is not None, input_names))\n",
    "\n",
    "def all_node_predecessor_are_ordered(node:Node, ordered:List[Node]):\n",
    "    if node.actual_outputs is None: \n",
    "        return False\n",
    "    \n",
    "    # this is true if none of node.actual_outputs is taken in input by any of the ordered nodes\n",
    "    for ordered_node in ordered:\n",
    "        if not is_any_in_input(ordered_node.inputs, node.actual_outputs):\n",
    "            return False\n",
    "    return True\n",
    "\n",
    "def find_node_successor(node, ordered):\n",
    "    return [ordered_node for ordered_node in ordered if not is_any_in_input(ordered_node.inputs, node.actual_outputs)]\n",
    "\n",
    "def process_node(node, ordered, quarantined, processing, state_producer):\n",
    "    node.update_actuals(state_producer)\n",
    "    \n",
    "    print(f\"Node: {node.name}, Inputs: {node.inputs}, Actual Inputs: {node.actual_inputs}, Outputs: {node.outputs}, Actual Outputs: {node.actual_outputs}\")\n",
    "    print(f\"Ordered: {list(map(lambda x: x.name, ordered))}\")\n",
    "    print(f\"Quarantined: {list(map(lambda x: x.name, quarantined))}\")\n",
    "    print(f\"Processing: {list(map(lambda x: x.name, processing))}\")\n",
    "    print(f\"State Producer: {state_producer}\")\n",
    "    \n",
    "    if node in quarantined:\n",
    "        raise Exception(f\"Cyclical graph detected! Nodes involved: {dict(zip(map(lambda x: x.name, quarantined), quarantined))}\")\n",
    "    \n",
    "    if all_node_predecessor_are_ordered(node, ordered):\n",
    "        ordered.append(node)\n",
    "        \n",
    "        for actual_name in node.actual_inputs:\n",
    "            if node not in state_producer[actual_name]:\n",
    "                state_producer[actual_name].append(node)\n",
    "        \n",
    "        successors = find_node_successor(node, ordered)\n",
    "        \n",
    "        if successors:\n",
    "            quarantined.append(node)\n",
    "            processing.extend(successors) # extend without duplicates\n",
    "            \n",
    "            for successor in successors:\n",
    "                process_node(successor, ordered, quarantined, processing, state_producer)\n",
    "        \n",
    "            quarantined.remove(node)\n",
    "        \n",
    "        return True\n",
    "    \n",
    "    return False\n",
    "        "
   ],
   "id": "e17c55d4aced78e3",
   "outputs": [],
   "execution_count": 83
  },
  {
   "metadata": {
    "ExecuteTime": {
     "end_time": "2024-06-13T20:33:20.225617Z",
     "start_time": "2024-06-13T20:33:20.212071Z"
    }
   },
   "cell_type": "code",
   "source": [
    "nodes = [\n",
    "    Node(\"A\", [\"x\"], [\"y\"]),\n",
    "    Node(\"B\", [\"y\"], [\"z\"])\n",
    "]\n",
    "\n",
    "user_inputs = {\"x\": 10}\n",
    "\n",
    "state_producer = defaultdict(list)  # state[actual_input_name] => list of producers\n",
    "\n",
    "for _input in user_inputs.keys():\n",
    "    state_producer[_input] = []\n",
    "\n",
    "processing = []\n",
    "ordered = []\n",
    "quarantined = []"
   ],
   "id": "348775bb7c5ccb8d",
   "outputs": [],
   "execution_count": 91
  },
  {
   "metadata": {
    "ExecuteTime": {
     "end_time": "2024-06-13T20:33:24.362490Z",
     "start_time": "2024-06-13T20:33:24.277444Z"
    }
   },
   "cell_type": "code",
   "source": [
    "i = 0\n",
    "while nodes:\n",
    "    node = nodes.pop(0)\n",
    "    # nodes.append(node)\n",
    "    \n",
    "    result_processing = process_node(node, ordered, quarantined, processing, state_producer)\n",
    "    print(f\"Result processing node: {node.name} is: {result_processing}\")\n",
    "    if not result_processing:\n",
    "        nodes.append(node)\n",
    "    \n",
    "    i += 1\n",
    "    if i > 4:\n",
    "        break"
   ],
   "id": "78e460e2add06495",
   "outputs": [
    {
     "name": "stdout",
     "output_type": "stream",
     "text": [
      "input_name: x, state_keys: dict_keys(['x']), actual_names: ['x'], template_values: None\n",
      "Node: A, Inputs: ['x'], Actual Inputs: ['x'], Outputs: ['y'], Actual Outputs: ['y']\n",
      "Ordered: []\n",
      "Quarantined: []\n",
      "Processing: []\n",
      "State Producer: defaultdict(<class 'list'>, {'x': []})\n",
      "input_name: x, state_keys: dict_keys(['x']), actual_names: ['x'], template_values: None\n",
      "Node: A, Inputs: ['x'], Actual Inputs: ['x'], Outputs: ['y'], Actual Outputs: ['y']\n",
      "Ordered: ['A']\n",
      "Quarantined: ['A']\n",
      "Processing: ['A']\n",
      "State Producer: defaultdict(<class 'list'>, {'x': [<__main__.Node object at 0x000002BE8F17A950>]})\n"
     ]
    },
    {
     "ename": "Exception",
     "evalue": "Cyclical graph detected! Nodes involved: {'A': <__main__.Node object at 0x000002BE8F17A950>}",
     "output_type": "error",
     "traceback": [
      "\u001B[1;31m---------------------------------------------------------------------------\u001B[0m",
      "\u001B[1;31mException\u001B[0m                                 Traceback (most recent call last)",
      "Cell \u001B[1;32mIn[92], line 6\u001B[0m\n\u001B[0;32m      3\u001B[0m node \u001B[38;5;241m=\u001B[39m nodes\u001B[38;5;241m.\u001B[39mpop(\u001B[38;5;241m0\u001B[39m)\n\u001B[0;32m      4\u001B[0m \u001B[38;5;66;03m# nodes.append(node)\u001B[39;00m\n\u001B[1;32m----> 6\u001B[0m result_processing \u001B[38;5;241m=\u001B[39m process_node(node, ordered, quarantined, processing, state_producer)\n\u001B[0;32m      7\u001B[0m \u001B[38;5;28mprint\u001B[39m(\u001B[38;5;124mf\u001B[39m\u001B[38;5;124m\"\u001B[39m\u001B[38;5;124mResult processing node: \u001B[39m\u001B[38;5;132;01m{\u001B[39;00mnode\u001B[38;5;241m.\u001B[39mname\u001B[38;5;132;01m}\u001B[39;00m\u001B[38;5;124m is: \u001B[39m\u001B[38;5;132;01m{\u001B[39;00mresult_processing\u001B[38;5;132;01m}\u001B[39;00m\u001B[38;5;124m\"\u001B[39m)\n\u001B[0;32m      8\u001B[0m \u001B[38;5;28;01mif\u001B[39;00m \u001B[38;5;129;01mnot\u001B[39;00m result_processing:\n",
      "Cell \u001B[1;32mIn[83], line 42\u001B[0m, in \u001B[0;36mprocess_node\u001B[1;34m(node, ordered, quarantined, processing, state_producer)\u001B[0m\n\u001B[0;32m     39\u001B[0m     processing\u001B[38;5;241m.\u001B[39mextend(successors) \u001B[38;5;66;03m# extend without duplicates\u001B[39;00m\n\u001B[0;32m     41\u001B[0m     \u001B[38;5;28;01mfor\u001B[39;00m successor \u001B[38;5;129;01min\u001B[39;00m successors:\n\u001B[1;32m---> 42\u001B[0m         process_node(successor, ordered, quarantined, processing, state_producer)\n\u001B[0;32m     44\u001B[0m     quarantined\u001B[38;5;241m.\u001B[39mremove(node)\n\u001B[0;32m     46\u001B[0m \u001B[38;5;28;01mreturn\u001B[39;00m \u001B[38;5;28;01mTrue\u001B[39;00m\n",
      "Cell \u001B[1;32mIn[83], line 27\u001B[0m, in \u001B[0;36mprocess_node\u001B[1;34m(node, ordered, quarantined, processing, state_producer)\u001B[0m\n\u001B[0;32m     24\u001B[0m \u001B[38;5;28mprint\u001B[39m(\u001B[38;5;124mf\u001B[39m\u001B[38;5;124m\"\u001B[39m\u001B[38;5;124mState Producer: \u001B[39m\u001B[38;5;132;01m{\u001B[39;00mstate_producer\u001B[38;5;132;01m}\u001B[39;00m\u001B[38;5;124m\"\u001B[39m)\n\u001B[0;32m     26\u001B[0m \u001B[38;5;28;01mif\u001B[39;00m node \u001B[38;5;129;01min\u001B[39;00m quarantined:\n\u001B[1;32m---> 27\u001B[0m     \u001B[38;5;28;01mraise\u001B[39;00m \u001B[38;5;167;01mException\u001B[39;00m(\u001B[38;5;124mf\u001B[39m\u001B[38;5;124m\"\u001B[39m\u001B[38;5;124mCyclical graph detected! Nodes involved: \u001B[39m\u001B[38;5;132;01m{\u001B[39;00m\u001B[38;5;28mdict\u001B[39m(\u001B[38;5;28mzip\u001B[39m(\u001B[38;5;28mmap\u001B[39m(\u001B[38;5;28;01mlambda\u001B[39;00m\u001B[38;5;250m \u001B[39mx:\u001B[38;5;250m \u001B[39mx\u001B[38;5;241m.\u001B[39mname,\u001B[38;5;250m \u001B[39mquarantined),\u001B[38;5;250m \u001B[39mquarantined))\u001B[38;5;132;01m}\u001B[39;00m\u001B[38;5;124m\"\u001B[39m)\n\u001B[0;32m     29\u001B[0m \u001B[38;5;28;01mif\u001B[39;00m all_node_predecessor_are_ordered(node, ordered):\n\u001B[0;32m     30\u001B[0m     ordered\u001B[38;5;241m.\u001B[39mappend(node)\n",
      "\u001B[1;31mException\u001B[0m: Cyclical graph detected! Nodes involved: {'A': <__main__.Node object at 0x000002BE8F17A950>}"
     ]
    }
   ],
   "execution_count": 92
  },
  {
   "metadata": {
    "ExecuteTime": {
     "end_time": "2024-06-13T19:16:08.518283Z",
     "start_time": "2024-06-13T19:16:08.515305Z"
    }
   },
   "cell_type": "code",
   "source": "",
   "id": "a342a58fcce5e279",
   "outputs": [],
   "execution_count": 82
  },
  {
   "metadata": {},
   "cell_type": "code",
   "outputs": [],
   "execution_count": null,
   "source": "",
   "id": "140d4c7340f80f51"
  }
 ],
 "metadata": {
  "kernelspec": {
   "display_name": "Python 3",
   "language": "python",
   "name": "python3"
  },
  "language_info": {
   "codemirror_mode": {
    "name": "ipython",
    "version": 2
   },
   "file_extension": ".py",
   "mimetype": "text/x-python",
   "name": "python",
   "nbconvert_exporter": "python",
   "pygments_lexer": "ipython2",
   "version": "2.7.6"
  }
 },
 "nbformat": 4,
 "nbformat_minor": 5
}
